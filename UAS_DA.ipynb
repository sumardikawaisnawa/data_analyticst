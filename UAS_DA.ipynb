{
  "nbformat": 4,
  "nbformat_minor": 0,
  "metadata": {
    "colab": {
      "name": "UAS_DA.ipynb",
      "provenance": [],
      "authorship_tag": "ABX9TyPDsshZbYb2lpoB80vVNPo3",
      "include_colab_link": true
    },
    "kernelspec": {
      "name": "python3",
      "display_name": "Python 3"
    },
    "language_info": {
      "name": "python"
    }
  },
  "cells": [
    {
      "cell_type": "markdown",
      "metadata": {
        "id": "view-in-github",
        "colab_type": "text"
      },
      "source": [
        "<a href=\"https://colab.research.google.com/github/sumardikawaisnawa/data_analyticst/blob/main/UAS_DA.ipynb\" target=\"_parent\"><img src=\"https://colab.research.google.com/assets/colab-badge.svg\" alt=\"Open In Colab\"/></a>"
      ]
    },
    {
      "cell_type": "code",
      "execution_count": 1,
      "metadata": {
        "colab": {
          "base_uri": "https://localhost:8080/"
        },
        "id": "uyK5FQ77h505",
        "outputId": "cd00baa2-aa6f-4d19-e62f-c3a86c944ebb"
      },
      "outputs": [
        {
          "output_type": "stream",
          "name": "stdout",
          "text": [
            "Mounted at /content/gdrive\n"
          ]
        }
      ],
      "source": [
        "from google.colab import drive\n",
        "drive.mount('/content/gdrive')"
      ]
    },
    {
      "cell_type": "code",
      "source": [
        "import os\n",
        "os.environ['KAGGLE_CONFIG_DIR'] = \"/content/gdrive/My Drive/Kaggle\"\n",
        "# /content/gdrive/My Drive/Kaggle is the path where kaggle.json is present in the Google Drive"
      ],
      "metadata": {
        "id": "trXpV1KwiT5L"
      },
      "execution_count": 2,
      "outputs": []
    },
    {
      "cell_type": "code",
      "source": [
        "#changing the working directory\n",
        "%cd /content/gdrive/My Drive/Kaggle\n",
        "#Check the present working directory using pwd command"
      ],
      "metadata": {
        "colab": {
          "base_uri": "https://localhost:8080/"
        },
        "id": "EC72bTBziVcP",
        "outputId": "99ca1287-2643-47b3-b58f-3b164e5e4f12"
      },
      "execution_count": 3,
      "outputs": [
        {
          "output_type": "stream",
          "name": "stdout",
          "text": [
            "/content/gdrive/My Drive/Kaggle\n"
          ]
        }
      ]
    },
    {
      "cell_type": "code",
      "source": [
        "!kaggle datasets download -d parisrohan/credit-score-classification"
      ],
      "metadata": {
        "colab": {
          "base_uri": "https://localhost:8080/"
        },
        "id": "DmjTsd7vpKiK",
        "outputId": "d489d3ed-b542-4d0c-8f38-3d0b44e79dbc"
      },
      "execution_count": 29,
      "outputs": [
        {
          "output_type": "stream",
          "name": "stdout",
          "text": [
            "Downloading credit-score-classification.zip to /content/gdrive/My Drive/Kaggle\n",
            "\r  0% 0.00/9.51M [00:00<?, ?B/s]\r 53% 5.00M/9.51M [00:00<00:00, 43.8MB/s]\n",
            "\r100% 9.51M/9.51M [00:00<00:00, 67.9MB/s]\n"
          ]
        }
      ]
    },
    {
      "cell_type": "code",
      "source": [
        "!ls"
      ],
      "metadata": {
        "colab": {
          "base_uri": "https://localhost:8080/"
        },
        "id": "h2VIjV_GpdVT",
        "outputId": "e84ec979-5739-4975-8acd-d949620c87de"
      },
      "execution_count": 30,
      "outputs": [
        {
          "output_type": "stream",
          "name": "stdout",
          "text": [
            "basic1.csv\n",
            "basic2.csv\n",
            "basic3.csv\n",
            "basic4.csv\n",
            "basic5.csv\n",
            "blob.csv\n",
            "box.csv\n",
            "boxes2.csv\n",
            "boxes3.csv\n",
            "boxes.csv\n",
            "chrome.csv\n",
            "credit-score-classification.zip\n",
            "dart2.csv\n",
            "dart.csv\n",
            "face.csv\n",
            "hyperplane.csv\n",
            "isolation.csv\n",
            "kaggle_Interests_group.csv\n",
            "kaggle.json\n",
            "k-means-clustering.ipynb\n",
            "lines2.csv\n",
            "lines.csv\n",
            "network.csv\n",
            "outliers.csv\n",
            "ring.csv\n",
            "sparse.csv\n",
            "spiral2.csv\n",
            "spiral.csv\n",
            "spirals.csv\n",
            "starter-clustering-categorical-peoples-b3eedbef-c.ipynb\n",
            "supernova.csv\n",
            "triangle.csv\n",
            "un2.csv\n",
            "un.csv\n",
            "wave.csv\n"
          ]
        }
      ]
    },
    {
      "cell_type": "code",
      "source": [
        "#unzipping the zip files and deleting the zip files\n",
        "!unzip \\*.zip  && rm *.zip"
      ],
      "metadata": {
        "colab": {
          "base_uri": "https://localhost:8080/"
        },
        "id": "mFg1M-CRpjqS",
        "outputId": "3da11bba-eb81-496a-badb-dd5072207a42"
      },
      "execution_count": 31,
      "outputs": [
        {
          "output_type": "stream",
          "name": "stdout",
          "text": [
            "Archive:  credit-score-classification.zip\n",
            "  inflating: test.csv                \n",
            "  inflating: train.csv               \n"
          ]
        }
      ]
    },
    {
      "cell_type": "code",
      "source": [
        "import pandas as pd"
      ],
      "metadata": {
        "id": "29ItOYqdpo69"
      },
      "execution_count": 32,
      "outputs": []
    },
    {
      "cell_type": "code",
      "source": [
        "df = pd.read_csv(r'test.csv')"
      ],
      "metadata": {
        "id": "zzX87tFYp3j5"
      },
      "execution_count": 37,
      "outputs": []
    },
    {
      "cell_type": "code",
      "source": [
        "df.head()"
      ],
      "metadata": {
        "colab": {
          "base_uri": "https://localhost:8080/",
          "height": 473
        },
        "id": "cNQlLfrxrUvS",
        "outputId": "1f0f6a4f-eeeb-4185-957d-e0ed631f0736"
      },
      "execution_count": 38,
      "outputs": [
        {
          "output_type": "execute_result",
          "data": {
            "text/plain": [
              "       ID Customer_ID      Month             Name  Age          SSN  \\\n",
              "0  0x160a   CUS_0xd40  September    Aaron Maashoh   23  821-00-0265   \n",
              "1  0x160b   CUS_0xd40    October    Aaron Maashoh   24  821-00-0265   \n",
              "2  0x160c   CUS_0xd40   November    Aaron Maashoh   24  821-00-0265   \n",
              "3  0x160d   CUS_0xd40   December    Aaron Maashoh  24_  821-00-0265   \n",
              "4  0x1616  CUS_0x21b1  September  Rick Rothackerj   28  004-07-5839   \n",
              "\n",
              "  Occupation Annual_Income  Monthly_Inhand_Salary  Num_Bank_Accounts  ...  \\\n",
              "0  Scientist      19114.12            1824.843333                  3  ...   \n",
              "1  Scientist      19114.12            1824.843333                  3  ...   \n",
              "2  Scientist      19114.12            1824.843333                  3  ...   \n",
              "3  Scientist      19114.12                    NaN                  3  ...   \n",
              "4    _______      34847.84            3037.986667                  2  ...   \n",
              "\n",
              "   Num_Credit_Inquiries  Credit_Mix Outstanding_Debt Credit_Utilization_Ratio  \\\n",
              "0                2022.0        Good           809.98                35.030402   \n",
              "1                   4.0        Good           809.98                33.053114   \n",
              "2                   4.0        Good           809.98                33.811894   \n",
              "3                   4.0        Good           809.98                32.430559   \n",
              "4                   5.0        Good           605.03                25.926822   \n",
              "\n",
              "       Credit_History_Age Payment_of_Min_Amount Total_EMI_per_month  \\\n",
              "0   22 Years and 9 Months                    No           49.574949   \n",
              "1  22 Years and 10 Months                    No           49.574949   \n",
              "2                     NaN                    No           49.574949   \n",
              "3   23 Years and 0 Months                    No           49.574949   \n",
              "4   27 Years and 3 Months                    No           18.816215   \n",
              "\n",
              "   Amount_invested_monthly                 Payment_Behaviour  \\\n",
              "0       236.64268203272135    Low_spent_Small_value_payments   \n",
              "1       21.465380264657146  High_spent_Medium_value_payments   \n",
              "2       148.23393788500925   Low_spent_Medium_value_payments   \n",
              "3        39.08251089460281  High_spent_Medium_value_payments   \n",
              "4       39.684018417945296   High_spent_Large_value_payments   \n",
              "\n",
              "      Monthly_Balance  \n",
              "0  186.26670208571772  \n",
              "1  361.44400385378196  \n",
              "2  264.67544623342997  \n",
              "3  343.82687322383634  \n",
              "4   485.2984336755923  \n",
              "\n",
              "[5 rows x 27 columns]"
            ],
            "text/html": [
              "\n",
              "  <div id=\"df-017a3b8a-00f1-4ae9-9fe8-eb9cf10da439\">\n",
              "    <div class=\"colab-df-container\">\n",
              "      <div>\n",
              "<style scoped>\n",
              "    .dataframe tbody tr th:only-of-type {\n",
              "        vertical-align: middle;\n",
              "    }\n",
              "\n",
              "    .dataframe tbody tr th {\n",
              "        vertical-align: top;\n",
              "    }\n",
              "\n",
              "    .dataframe thead th {\n",
              "        text-align: right;\n",
              "    }\n",
              "</style>\n",
              "<table border=\"1\" class=\"dataframe\">\n",
              "  <thead>\n",
              "    <tr style=\"text-align: right;\">\n",
              "      <th></th>\n",
              "      <th>ID</th>\n",
              "      <th>Customer_ID</th>\n",
              "      <th>Month</th>\n",
              "      <th>Name</th>\n",
              "      <th>Age</th>\n",
              "      <th>SSN</th>\n",
              "      <th>Occupation</th>\n",
              "      <th>Annual_Income</th>\n",
              "      <th>Monthly_Inhand_Salary</th>\n",
              "      <th>Num_Bank_Accounts</th>\n",
              "      <th>...</th>\n",
              "      <th>Num_Credit_Inquiries</th>\n",
              "      <th>Credit_Mix</th>\n",
              "      <th>Outstanding_Debt</th>\n",
              "      <th>Credit_Utilization_Ratio</th>\n",
              "      <th>Credit_History_Age</th>\n",
              "      <th>Payment_of_Min_Amount</th>\n",
              "      <th>Total_EMI_per_month</th>\n",
              "      <th>Amount_invested_monthly</th>\n",
              "      <th>Payment_Behaviour</th>\n",
              "      <th>Monthly_Balance</th>\n",
              "    </tr>\n",
              "  </thead>\n",
              "  <tbody>\n",
              "    <tr>\n",
              "      <th>0</th>\n",
              "      <td>0x160a</td>\n",
              "      <td>CUS_0xd40</td>\n",
              "      <td>September</td>\n",
              "      <td>Aaron Maashoh</td>\n",
              "      <td>23</td>\n",
              "      <td>821-00-0265</td>\n",
              "      <td>Scientist</td>\n",
              "      <td>19114.12</td>\n",
              "      <td>1824.843333</td>\n",
              "      <td>3</td>\n",
              "      <td>...</td>\n",
              "      <td>2022.0</td>\n",
              "      <td>Good</td>\n",
              "      <td>809.98</td>\n",
              "      <td>35.030402</td>\n",
              "      <td>22 Years and 9 Months</td>\n",
              "      <td>No</td>\n",
              "      <td>49.574949</td>\n",
              "      <td>236.64268203272135</td>\n",
              "      <td>Low_spent_Small_value_payments</td>\n",
              "      <td>186.26670208571772</td>\n",
              "    </tr>\n",
              "    <tr>\n",
              "      <th>1</th>\n",
              "      <td>0x160b</td>\n",
              "      <td>CUS_0xd40</td>\n",
              "      <td>October</td>\n",
              "      <td>Aaron Maashoh</td>\n",
              "      <td>24</td>\n",
              "      <td>821-00-0265</td>\n",
              "      <td>Scientist</td>\n",
              "      <td>19114.12</td>\n",
              "      <td>1824.843333</td>\n",
              "      <td>3</td>\n",
              "      <td>...</td>\n",
              "      <td>4.0</td>\n",
              "      <td>Good</td>\n",
              "      <td>809.98</td>\n",
              "      <td>33.053114</td>\n",
              "      <td>22 Years and 10 Months</td>\n",
              "      <td>No</td>\n",
              "      <td>49.574949</td>\n",
              "      <td>21.465380264657146</td>\n",
              "      <td>High_spent_Medium_value_payments</td>\n",
              "      <td>361.44400385378196</td>\n",
              "    </tr>\n",
              "    <tr>\n",
              "      <th>2</th>\n",
              "      <td>0x160c</td>\n",
              "      <td>CUS_0xd40</td>\n",
              "      <td>November</td>\n",
              "      <td>Aaron Maashoh</td>\n",
              "      <td>24</td>\n",
              "      <td>821-00-0265</td>\n",
              "      <td>Scientist</td>\n",
              "      <td>19114.12</td>\n",
              "      <td>1824.843333</td>\n",
              "      <td>3</td>\n",
              "      <td>...</td>\n",
              "      <td>4.0</td>\n",
              "      <td>Good</td>\n",
              "      <td>809.98</td>\n",
              "      <td>33.811894</td>\n",
              "      <td>NaN</td>\n",
              "      <td>No</td>\n",
              "      <td>49.574949</td>\n",
              "      <td>148.23393788500925</td>\n",
              "      <td>Low_spent_Medium_value_payments</td>\n",
              "      <td>264.67544623342997</td>\n",
              "    </tr>\n",
              "    <tr>\n",
              "      <th>3</th>\n",
              "      <td>0x160d</td>\n",
              "      <td>CUS_0xd40</td>\n",
              "      <td>December</td>\n",
              "      <td>Aaron Maashoh</td>\n",
              "      <td>24_</td>\n",
              "      <td>821-00-0265</td>\n",
              "      <td>Scientist</td>\n",
              "      <td>19114.12</td>\n",
              "      <td>NaN</td>\n",
              "      <td>3</td>\n",
              "      <td>...</td>\n",
              "      <td>4.0</td>\n",
              "      <td>Good</td>\n",
              "      <td>809.98</td>\n",
              "      <td>32.430559</td>\n",
              "      <td>23 Years and 0 Months</td>\n",
              "      <td>No</td>\n",
              "      <td>49.574949</td>\n",
              "      <td>39.08251089460281</td>\n",
              "      <td>High_spent_Medium_value_payments</td>\n",
              "      <td>343.82687322383634</td>\n",
              "    </tr>\n",
              "    <tr>\n",
              "      <th>4</th>\n",
              "      <td>0x1616</td>\n",
              "      <td>CUS_0x21b1</td>\n",
              "      <td>September</td>\n",
              "      <td>Rick Rothackerj</td>\n",
              "      <td>28</td>\n",
              "      <td>004-07-5839</td>\n",
              "      <td>_______</td>\n",
              "      <td>34847.84</td>\n",
              "      <td>3037.986667</td>\n",
              "      <td>2</td>\n",
              "      <td>...</td>\n",
              "      <td>5.0</td>\n",
              "      <td>Good</td>\n",
              "      <td>605.03</td>\n",
              "      <td>25.926822</td>\n",
              "      <td>27 Years and 3 Months</td>\n",
              "      <td>No</td>\n",
              "      <td>18.816215</td>\n",
              "      <td>39.684018417945296</td>\n",
              "      <td>High_spent_Large_value_payments</td>\n",
              "      <td>485.2984336755923</td>\n",
              "    </tr>\n",
              "  </tbody>\n",
              "</table>\n",
              "<p>5 rows × 27 columns</p>\n",
              "</div>\n",
              "      <button class=\"colab-df-convert\" onclick=\"convertToInteractive('df-017a3b8a-00f1-4ae9-9fe8-eb9cf10da439')\"\n",
              "              title=\"Convert this dataframe to an interactive table.\"\n",
              "              style=\"display:none;\">\n",
              "        \n",
              "  <svg xmlns=\"http://www.w3.org/2000/svg\" height=\"24px\"viewBox=\"0 0 24 24\"\n",
              "       width=\"24px\">\n",
              "    <path d=\"M0 0h24v24H0V0z\" fill=\"none\"/>\n",
              "    <path d=\"M18.56 5.44l.94 2.06.94-2.06 2.06-.94-2.06-.94-.94-2.06-.94 2.06-2.06.94zm-11 1L8.5 8.5l.94-2.06 2.06-.94-2.06-.94L8.5 2.5l-.94 2.06-2.06.94zm10 10l.94 2.06.94-2.06 2.06-.94-2.06-.94-.94-2.06-.94 2.06-2.06.94z\"/><path d=\"M17.41 7.96l-1.37-1.37c-.4-.4-.92-.59-1.43-.59-.52 0-1.04.2-1.43.59L10.3 9.45l-7.72 7.72c-.78.78-.78 2.05 0 2.83L4 21.41c.39.39.9.59 1.41.59.51 0 1.02-.2 1.41-.59l7.78-7.78 2.81-2.81c.8-.78.8-2.07 0-2.86zM5.41 20L4 18.59l7.72-7.72 1.47 1.35L5.41 20z\"/>\n",
              "  </svg>\n",
              "      </button>\n",
              "      \n",
              "  <style>\n",
              "    .colab-df-container {\n",
              "      display:flex;\n",
              "      flex-wrap:wrap;\n",
              "      gap: 12px;\n",
              "    }\n",
              "\n",
              "    .colab-df-convert {\n",
              "      background-color: #E8F0FE;\n",
              "      border: none;\n",
              "      border-radius: 50%;\n",
              "      cursor: pointer;\n",
              "      display: none;\n",
              "      fill: #1967D2;\n",
              "      height: 32px;\n",
              "      padding: 0 0 0 0;\n",
              "      width: 32px;\n",
              "    }\n",
              "\n",
              "    .colab-df-convert:hover {\n",
              "      background-color: #E2EBFA;\n",
              "      box-shadow: 0px 1px 2px rgba(60, 64, 67, 0.3), 0px 1px 3px 1px rgba(60, 64, 67, 0.15);\n",
              "      fill: #174EA6;\n",
              "    }\n",
              "\n",
              "    [theme=dark] .colab-df-convert {\n",
              "      background-color: #3B4455;\n",
              "      fill: #D2E3FC;\n",
              "    }\n",
              "\n",
              "    [theme=dark] .colab-df-convert:hover {\n",
              "      background-color: #434B5C;\n",
              "      box-shadow: 0px 1px 3px 1px rgba(0, 0, 0, 0.15);\n",
              "      filter: drop-shadow(0px 1px 2px rgba(0, 0, 0, 0.3));\n",
              "      fill: #FFFFFF;\n",
              "    }\n",
              "  </style>\n",
              "\n",
              "      <script>\n",
              "        const buttonEl =\n",
              "          document.querySelector('#df-017a3b8a-00f1-4ae9-9fe8-eb9cf10da439 button.colab-df-convert');\n",
              "        buttonEl.style.display =\n",
              "          google.colab.kernel.accessAllowed ? 'block' : 'none';\n",
              "\n",
              "        async function convertToInteractive(key) {\n",
              "          const element = document.querySelector('#df-017a3b8a-00f1-4ae9-9fe8-eb9cf10da439');\n",
              "          const dataTable =\n",
              "            await google.colab.kernel.invokeFunction('convertToInteractive',\n",
              "                                                     [key], {});\n",
              "          if (!dataTable) return;\n",
              "\n",
              "          const docLinkHtml = 'Like what you see? Visit the ' +\n",
              "            '<a target=\"_blank\" href=https://colab.research.google.com/notebooks/data_table.ipynb>data table notebook</a>'\n",
              "            + ' to learn more about interactive tables.';\n",
              "          element.innerHTML = '';\n",
              "          dataTable['output_type'] = 'display_data';\n",
              "          await google.colab.output.renderOutput(dataTable, element);\n",
              "          const docLink = document.createElement('div');\n",
              "          docLink.innerHTML = docLinkHtml;\n",
              "          element.appendChild(docLink);\n",
              "        }\n",
              "      </script>\n",
              "    </div>\n",
              "  </div>\n",
              "  "
            ]
          },
          "metadata": {},
          "execution_count": 38
        }
      ]
    }
  ]
}