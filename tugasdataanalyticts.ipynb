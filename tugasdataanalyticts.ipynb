{
  "nbformat": 4,
  "nbformat_minor": 0,
  "metadata": {
    "colab": {
      "name": "tugasdataanalyticts.ipynb",
      "provenance": [],
      "mount_file_id": "1FlqjXnp6NjdaCqM4peHlKchhVBgxrU3L",
      "authorship_tag": "ABX9TyPdOQtDnpzhezgnOCyLHC/T",
      "include_colab_link": true
    },
    "kernelspec": {
      "name": "python3",
      "display_name": "Python 3"
    },
    "language_info": {
      "name": "python"
    }
  },
  "cells": [
    {
      "cell_type": "markdown",
      "metadata": {
        "id": "view-in-github",
        "colab_type": "text"
      },
      "source": [
        "<a href=\"https://colab.research.google.com/github/sumardikawaisnawa/data_analyticst/blob/main/tugasdataanalyticts.ipynb\" target=\"_parent\"><img src=\"https://colab.research.google.com/assets/colab-badge.svg\" alt=\"Open In Colab\"/></a>"
      ]
    },
    {
      "cell_type": "code",
      "execution_count": 2,
      "metadata": {
        "colab": {
          "base_uri": "https://localhost:8080/"
        },
        "id": "3-AGIU0dhABT",
        "outputId": "36c3e150-970b-4c08-87df-3b4721c8ffbf"
      },
      "outputs": [
        {
          "output_type": "stream",
          "name": "stdout",
          "text": [
            "Mounted at /content/gdrive\n"
          ]
        }
      ],
      "source": [
        "from google.colab import drive\n",
        "drive.mount('/content/gdrive')"
      ]
    },
    {
      "cell_type": "code",
      "source": [
        "import os\n",
        "os.environ['KAGGLE_CONFIG_DIR'] = \"/content/gdrive/My Drive/Kaggle\"\n",
        "# /content/gdrive/My Drive/Kaggle is the path where kaggle.json is present in the Google Drive"
      ],
      "metadata": {
        "id": "uI9jk2ZmigBV"
      },
      "execution_count": 3,
      "outputs": []
    },
    {
      "cell_type": "code",
      "source": [
        "#changing the working directory\n",
        "%cd /content/gdrive/My Drive/Kaggle\n",
        "#Check the present working directory using pwd command"
      ],
      "metadata": {
        "colab": {
          "base_uri": "https://localhost:8080/"
        },
        "id": "LN1PfCuPmRHK",
        "outputId": "a413f478-7afd-4887-9d7d-70f800e95e23"
      },
      "execution_count": 12,
      "outputs": [
        {
          "output_type": "stream",
          "name": "stdout",
          "text": [
            "/content/gdrive/My Drive/Kaggle\n"
          ]
        }
      ]
    },
    {
      "cell_type": "code",
      "source": [
        "!kaggle datasets download -d anandaramg/nba-players-according-to-raptor"
      ],
      "metadata": {
        "colab": {
          "base_uri": "https://localhost:8080/"
        },
        "id": "pnqYlGTjnN6t",
        "outputId": "ceb9bd0e-c648-4fd7-f8f3-a31a689f4564"
      },
      "execution_count": 13,
      "outputs": [
        {
          "output_type": "stream",
          "name": "stdout",
          "text": [
            "Downloading nba-players-according-to-raptor.zip to /content/gdrive/My Drive/Kaggle\n",
            " 94% 182M/194M [00:01<00:00, 134MB/s]\n",
            "100% 194M/194M [00:01<00:00, 126MB/s]\n"
          ]
        }
      ]
    },
    {
      "cell_type": "code",
      "source": [
        "!ls"
      ],
      "metadata": {
        "colab": {
          "base_uri": "https://localhost:8080/"
        },
        "id": "ab1aQWLPnbH1",
        "outputId": "730b35f7-24d4-452e-907b-69b7e95cb7fb"
      },
      "execution_count": 14,
      "outputs": [
        {
          "output_type": "stream",
          "name": "stdout",
          "text": [
            "kaggle.json  nba-players-according-to-raptor.zip\n"
          ]
        }
      ]
    },
    {
      "cell_type": "code",
      "source": [
        "#unzipping the zip files and deleting the zip files\n",
        "!unzip \\*.zip  && rm *.zip"
      ],
      "metadata": {
        "colab": {
          "base_uri": "https://localhost:8080/"
        },
        "id": "hf7MOxOhnhWx",
        "outputId": "7bdd4b58-c3bd-467d-82a6-58f87ecc4733"
      },
      "execution_count": 15,
      "outputs": [
        {
          "output_type": "stream",
          "name": "stdout",
          "text": [
            "Archive:  nba-players-according-to-raptor.zip\n",
            "  inflating: test.csv                \n",
            "  inflating: train.csv               \n"
          ]
        }
      ]
    },
    {
      "cell_type": "code",
      "source": [
        "import pandas as pd"
      ],
      "metadata": {
        "id": "zgc1HnkWn5uG"
      },
      "execution_count": 16,
      "outputs": []
    },
    {
      "cell_type": "code",
      "source": [
        "df = pd.read_csv(r'train.csv')"
      ],
      "metadata": {
        "id": "0thygd6qoCOL"
      },
      "execution_count": 17,
      "outputs": []
    },
    {
      "cell_type": "code",
      "source": [
        "df.head()"
      ],
      "metadata": {
        "colab": {
          "base_uri": "https://localhost:8080/",
          "height": 282
        },
        "id": "c0ytbydFoX3g",
        "outputId": "319a8e33-ed58-4769-b9d6-a8ed511e67df"
      },
      "execution_count": 18,
      "outputs": [
        {
          "output_type": "execute_result",
          "data": {
            "text/plain": [
              "   Unnamed: 0     player_name_x  player_id  season_x  poss_x  mp_x  \\\n",
              "0      250936      LeBron James  jamesle01      2005    6404  3388   \n",
              "1      169984  Tim Hardaway Jr.  hardati02      2015    3293  1681   \n",
              "2      368525      Kelly Olynyk  olynyke01      2014    2827  1400   \n",
              "3      349205  Donovan Mitchell  mitchdo01      2018    6206  3049   \n",
              "4      209136    Justin Holiday  holidju01      2017    3346  1639   \n",
              "\n",
              "   raptor_offense_x  raptor_defense_x  raptor_total_x  war_total_x  ...  \\\n",
              "0          5.094678          1.423964        6.518643    15.950430  ...   \n",
              "1          0.398182         -4.140493       -3.742311    -0.848563  ...   \n",
              "2         -0.011112         -1.190292       -1.201404     1.115040  ...   \n",
              "3          1.400427          0.667928        2.068355     7.569662  ...   \n",
              "4         -0.659091          0.567136       -0.091955     2.229012  ...   \n",
              "\n",
              "   raptor_offense  raptor_defense  raptor_total  war_total  war_reg_season  \\\n",
              "0        5.471714        5.083207     10.554920   5.687281        0.000000   \n",
              "1        2.396407       -0.684238      1.712169   4.932031        4.932031   \n",
              "2        0.765556        2.055455      2.821011   4.097369        4.097369   \n",
              "3       12.207292       -0.874714     11.332578   1.937891        0.000000   \n",
              "4       -1.845026        1.489583     -0.355443   0.808474        0.808474   \n",
              "\n",
              "   war_playoffs predator_offense  predator_defense predator_total pace_impact  \n",
              "0      5.687281         7.235016          4.919774      12.154790   -1.116811  \n",
              "1      0.000000         1.545365         -0.974167       0.571198    0.564837  \n",
              "2      0.000000         1.199591          2.039951       3.239542    1.250263  \n",
              "3      1.937891         6.801913         -2.146641       4.655271   -0.935032  \n",
              "4      0.000000        -1.082915          1.426378       0.343463    0.694742  \n",
              "\n",
              "[5 rows x 96 columns]"
            ],
            "text/html": [
              "\n",
              "  <div id=\"df-3410a567-bbf9-414c-8f43-d6acac7df206\">\n",
              "    <div class=\"colab-df-container\">\n",
              "      <div>\n",
              "<style scoped>\n",
              "    .dataframe tbody tr th:only-of-type {\n",
              "        vertical-align: middle;\n",
              "    }\n",
              "\n",
              "    .dataframe tbody tr th {\n",
              "        vertical-align: top;\n",
              "    }\n",
              "\n",
              "    .dataframe thead th {\n",
              "        text-align: right;\n",
              "    }\n",
              "</style>\n",
              "<table border=\"1\" class=\"dataframe\">\n",
              "  <thead>\n",
              "    <tr style=\"text-align: right;\">\n",
              "      <th></th>\n",
              "      <th>Unnamed: 0</th>\n",
              "      <th>player_name_x</th>\n",
              "      <th>player_id</th>\n",
              "      <th>season_x</th>\n",
              "      <th>poss_x</th>\n",
              "      <th>mp_x</th>\n",
              "      <th>raptor_offense_x</th>\n",
              "      <th>raptor_defense_x</th>\n",
              "      <th>raptor_total_x</th>\n",
              "      <th>war_total_x</th>\n",
              "      <th>...</th>\n",
              "      <th>raptor_offense</th>\n",
              "      <th>raptor_defense</th>\n",
              "      <th>raptor_total</th>\n",
              "      <th>war_total</th>\n",
              "      <th>war_reg_season</th>\n",
              "      <th>war_playoffs</th>\n",
              "      <th>predator_offense</th>\n",
              "      <th>predator_defense</th>\n",
              "      <th>predator_total</th>\n",
              "      <th>pace_impact</th>\n",
              "    </tr>\n",
              "  </thead>\n",
              "  <tbody>\n",
              "    <tr>\n",
              "      <th>0</th>\n",
              "      <td>250936</td>\n",
              "      <td>LeBron James</td>\n",
              "      <td>jamesle01</td>\n",
              "      <td>2005</td>\n",
              "      <td>6404</td>\n",
              "      <td>3388</td>\n",
              "      <td>5.094678</td>\n",
              "      <td>1.423964</td>\n",
              "      <td>6.518643</td>\n",
              "      <td>15.950430</td>\n",
              "      <td>...</td>\n",
              "      <td>5.471714</td>\n",
              "      <td>5.083207</td>\n",
              "      <td>10.554920</td>\n",
              "      <td>5.687281</td>\n",
              "      <td>0.000000</td>\n",
              "      <td>5.687281</td>\n",
              "      <td>7.235016</td>\n",
              "      <td>4.919774</td>\n",
              "      <td>12.154790</td>\n",
              "      <td>-1.116811</td>\n",
              "    </tr>\n",
              "    <tr>\n",
              "      <th>1</th>\n",
              "      <td>169984</td>\n",
              "      <td>Tim Hardaway Jr.</td>\n",
              "      <td>hardati02</td>\n",
              "      <td>2015</td>\n",
              "      <td>3293</td>\n",
              "      <td>1681</td>\n",
              "      <td>0.398182</td>\n",
              "      <td>-4.140493</td>\n",
              "      <td>-3.742311</td>\n",
              "      <td>-0.848563</td>\n",
              "      <td>...</td>\n",
              "      <td>2.396407</td>\n",
              "      <td>-0.684238</td>\n",
              "      <td>1.712169</td>\n",
              "      <td>4.932031</td>\n",
              "      <td>4.932031</td>\n",
              "      <td>0.000000</td>\n",
              "      <td>1.545365</td>\n",
              "      <td>-0.974167</td>\n",
              "      <td>0.571198</td>\n",
              "      <td>0.564837</td>\n",
              "    </tr>\n",
              "    <tr>\n",
              "      <th>2</th>\n",
              "      <td>368525</td>\n",
              "      <td>Kelly Olynyk</td>\n",
              "      <td>olynyke01</td>\n",
              "      <td>2014</td>\n",
              "      <td>2827</td>\n",
              "      <td>1400</td>\n",
              "      <td>-0.011112</td>\n",
              "      <td>-1.190292</td>\n",
              "      <td>-1.201404</td>\n",
              "      <td>1.115040</td>\n",
              "      <td>...</td>\n",
              "      <td>0.765556</td>\n",
              "      <td>2.055455</td>\n",
              "      <td>2.821011</td>\n",
              "      <td>4.097369</td>\n",
              "      <td>4.097369</td>\n",
              "      <td>0.000000</td>\n",
              "      <td>1.199591</td>\n",
              "      <td>2.039951</td>\n",
              "      <td>3.239542</td>\n",
              "      <td>1.250263</td>\n",
              "    </tr>\n",
              "    <tr>\n",
              "      <th>3</th>\n",
              "      <td>349205</td>\n",
              "      <td>Donovan Mitchell</td>\n",
              "      <td>mitchdo01</td>\n",
              "      <td>2018</td>\n",
              "      <td>6206</td>\n",
              "      <td>3049</td>\n",
              "      <td>1.400427</td>\n",
              "      <td>0.667928</td>\n",
              "      <td>2.068355</td>\n",
              "      <td>7.569662</td>\n",
              "      <td>...</td>\n",
              "      <td>12.207292</td>\n",
              "      <td>-0.874714</td>\n",
              "      <td>11.332578</td>\n",
              "      <td>1.937891</td>\n",
              "      <td>0.000000</td>\n",
              "      <td>1.937891</td>\n",
              "      <td>6.801913</td>\n",
              "      <td>-2.146641</td>\n",
              "      <td>4.655271</td>\n",
              "      <td>-0.935032</td>\n",
              "    </tr>\n",
              "    <tr>\n",
              "      <th>4</th>\n",
              "      <td>209136</td>\n",
              "      <td>Justin Holiday</td>\n",
              "      <td>holidju01</td>\n",
              "      <td>2017</td>\n",
              "      <td>3346</td>\n",
              "      <td>1639</td>\n",
              "      <td>-0.659091</td>\n",
              "      <td>0.567136</td>\n",
              "      <td>-0.091955</td>\n",
              "      <td>2.229012</td>\n",
              "      <td>...</td>\n",
              "      <td>-1.845026</td>\n",
              "      <td>1.489583</td>\n",
              "      <td>-0.355443</td>\n",
              "      <td>0.808474</td>\n",
              "      <td>0.808474</td>\n",
              "      <td>0.000000</td>\n",
              "      <td>-1.082915</td>\n",
              "      <td>1.426378</td>\n",
              "      <td>0.343463</td>\n",
              "      <td>0.694742</td>\n",
              "    </tr>\n",
              "  </tbody>\n",
              "</table>\n",
              "<p>5 rows × 96 columns</p>\n",
              "</div>\n",
              "      <button class=\"colab-df-convert\" onclick=\"convertToInteractive('df-3410a567-bbf9-414c-8f43-d6acac7df206')\"\n",
              "              title=\"Convert this dataframe to an interactive table.\"\n",
              "              style=\"display:none;\">\n",
              "        \n",
              "  <svg xmlns=\"http://www.w3.org/2000/svg\" height=\"24px\"viewBox=\"0 0 24 24\"\n",
              "       width=\"24px\">\n",
              "    <path d=\"M0 0h24v24H0V0z\" fill=\"none\"/>\n",
              "    <path d=\"M18.56 5.44l.94 2.06.94-2.06 2.06-.94-2.06-.94-.94-2.06-.94 2.06-2.06.94zm-11 1L8.5 8.5l.94-2.06 2.06-.94-2.06-.94L8.5 2.5l-.94 2.06-2.06.94zm10 10l.94 2.06.94-2.06 2.06-.94-2.06-.94-.94-2.06-.94 2.06-2.06.94z\"/><path d=\"M17.41 7.96l-1.37-1.37c-.4-.4-.92-.59-1.43-.59-.52 0-1.04.2-1.43.59L10.3 9.45l-7.72 7.72c-.78.78-.78 2.05 0 2.83L4 21.41c.39.39.9.59 1.41.59.51 0 1.02-.2 1.41-.59l7.78-7.78 2.81-2.81c.8-.78.8-2.07 0-2.86zM5.41 20L4 18.59l7.72-7.72 1.47 1.35L5.41 20z\"/>\n",
              "  </svg>\n",
              "      </button>\n",
              "      \n",
              "  <style>\n",
              "    .colab-df-container {\n",
              "      display:flex;\n",
              "      flex-wrap:wrap;\n",
              "      gap: 12px;\n",
              "    }\n",
              "\n",
              "    .colab-df-convert {\n",
              "      background-color: #E8F0FE;\n",
              "      border: none;\n",
              "      border-radius: 50%;\n",
              "      cursor: pointer;\n",
              "      display: none;\n",
              "      fill: #1967D2;\n",
              "      height: 32px;\n",
              "      padding: 0 0 0 0;\n",
              "      width: 32px;\n",
              "    }\n",
              "\n",
              "    .colab-df-convert:hover {\n",
              "      background-color: #E2EBFA;\n",
              "      box-shadow: 0px 1px 2px rgba(60, 64, 67, 0.3), 0px 1px 3px 1px rgba(60, 64, 67, 0.15);\n",
              "      fill: #174EA6;\n",
              "    }\n",
              "\n",
              "    [theme=dark] .colab-df-convert {\n",
              "      background-color: #3B4455;\n",
              "      fill: #D2E3FC;\n",
              "    }\n",
              "\n",
              "    [theme=dark] .colab-df-convert:hover {\n",
              "      background-color: #434B5C;\n",
              "      box-shadow: 0px 1px 3px 1px rgba(0, 0, 0, 0.15);\n",
              "      filter: drop-shadow(0px 1px 2px rgba(0, 0, 0, 0.3));\n",
              "      fill: #FFFFFF;\n",
              "    }\n",
              "  </style>\n",
              "\n",
              "      <script>\n",
              "        const buttonEl =\n",
              "          document.querySelector('#df-3410a567-bbf9-414c-8f43-d6acac7df206 button.colab-df-convert');\n",
              "        buttonEl.style.display =\n",
              "          google.colab.kernel.accessAllowed ? 'block' : 'none';\n",
              "\n",
              "        async function convertToInteractive(key) {\n",
              "          const element = document.querySelector('#df-3410a567-bbf9-414c-8f43-d6acac7df206');\n",
              "          const dataTable =\n",
              "            await google.colab.kernel.invokeFunction('convertToInteractive',\n",
              "                                                     [key], {});\n",
              "          if (!dataTable) return;\n",
              "\n",
              "          const docLinkHtml = 'Like what you see? Visit the ' +\n",
              "            '<a target=\"_blank\" href=https://colab.research.google.com/notebooks/data_table.ipynb>data table notebook</a>'\n",
              "            + ' to learn more about interactive tables.';\n",
              "          element.innerHTML = '';\n",
              "          dataTable['output_type'] = 'display_data';\n",
              "          await google.colab.output.renderOutput(dataTable, element);\n",
              "          const docLink = document.createElement('div');\n",
              "          docLink.innerHTML = docLinkHtml;\n",
              "          element.appendChild(docLink);\n",
              "        }\n",
              "      </script>\n",
              "    </div>\n",
              "  </div>\n",
              "  "
            ]
          },
          "metadata": {},
          "execution_count": 18
        },
        {
          "output_type": "stream",
          "name": "stdout",
          "text": [
            "Warning: Total number of columns (96) exceeds max_columns (20) limiting to first (20) columns.\n"
          ]
        }
      ]
    }
  ]
}